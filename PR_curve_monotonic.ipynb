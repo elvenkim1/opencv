{
  "nbformat": 4,
  "nbformat_minor": 0,
  "metadata": {
    "colab": {
      "provenance": []
    },
    "kernelspec": {
      "name": "python3",
      "display_name": "Python 3"
    },
    "language_info": {
      "name": "python"
    }
  },
  "cells": [
    {
      "cell_type": "code",
      "execution_count": null,
      "metadata": {
        "id": "yCmxCaoMh40t"
      },
      "outputs": [],
      "source": [
        "import matplotlib.pyplot as plt\n",
        "import numpy as np\n",
        "\n",
        "# Precision and Recall values from the uploaded file\n",
        "precision = []\n",
        "recall = []\n",
        "\n",
        "# Convert lists to numpy arrays\n",
        "precision = np.array(precision)\n",
        "recall = np.array(recall)\n",
        "\n",
        "# Plot Precision-Recall curve\n",
        "plt.figure(figsize=(8, 6))\n",
        "plt.plot(recall, precision, marker='o', linestyle='-', color='b', label='Precision-Recall Curve')\n",
        "plt.xlabel('Recall')\n",
        "plt.ylabel('Precision')\n",
        "plt.title('Precision-Recall Curve')\n",
        "plt.legend()\n",
        "plt.grid(True)\n",
        "plt.show()\n",
        "\n",
        "from sklearn.metrics import auc\n",
        "# Compute AUC-PR\n",
        "auc_pr = auc(recall, precision)\n",
        "print(\"map:\", auc_pr)\n",
        "\n",
        "\n",
        "# Ensure precision is non-increasing (monotonic decreasing) using np.maximum.accumulate()\n",
        "modified_precision = np.maximum.accumulate(precision[::-1])[::-1]\n",
        "\n",
        "# Plot Precision-Recall curve\n",
        "plt.figure(figsize=(8, 6))\n",
        "plt.plot(recall, modified_precision, marker='o', linestyle='-', color='r', label='Modified PR Curve')\n",
        "plt.xlabel('Recall')\n",
        "plt.ylabel('Precision')\n",
        "plt.title('Precision-Recall Curve (Max Precision to the Right)')\n",
        "plt.legend()\n",
        "plt.grid(True)\n",
        "plt.show()\n",
        "\n",
        "from sklearn.metrics import auc\n",
        "# Compute AUC-PR\n",
        "auc_pr = auc(recall, modified_precision)\n",
        "print(\"The mAP is :\", auc_pr)\n"
      ]
    }
  ]
}