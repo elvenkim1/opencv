{
  "nbformat": 4,
  "nbformat_minor": 0,
  "metadata": {
    "colab": {
      "provenance": []
    },
    "kernelspec": {
      "name": "python3",
      "display_name": "Python 3"
    },
    "language_info": {
      "name": "python"
    }
  },
  "cells": [
    {
      "cell_type": "markdown",
      "source": [
        "A) HOW TO MEASURE LUX LEVEL"
      ],
      "metadata": {
        "id": "aCnmNZQ8Iv_o"
      }
    },
    {
      "cell_type": "code",
      "execution_count": 2,
      "metadata": {
        "colab": {
          "base_uri": "https://localhost:8080/"
        },
        "id": "tjsDGyTYIqn3",
        "outputId": "5e16788b-8b71-4db3-ff21-3c490bbf6a81"
      },
      "outputs": [
        {
          "output_type": "stream",
          "name": "stdout",
          "text": [
            "Estimated Lux: 41.94120749939715\n"
          ]
        }
      ],
      "source": [
        "import cv2\n",
        "import numpy as np\n",
        "\n",
        "image_path = '/content/darkened_image.png'\n",
        "\n",
        "def estimate_lux(image_path, k=0.5):\n",
        "    # Load image\n",
        "    image = cv2.imread(image_path, cv2.IMREAD_GRAYSCALE)\n",
        "\n",
        "    # Check if image was loaded successfully\n",
        "    if image is not None:\n",
        "        # Compute average pixel intensity\n",
        "        avg_intensity = np.mean(image)\n",
        "\n",
        "        # Convert to lux\n",
        "        lux_value = k * avg_intensity\n",
        "\n",
        "        return lux_value\n",
        "    else:\n",
        "        print(f\"Error: Could not load image at {image_path}\")\n",
        "        return None  # or raise an exception if you prefer\n",
        "\n",
        "\n",
        "lux = estimate_lux(image_path)  # Use the original image_path\n",
        "if lux is not None:\n",
        "    print(f\"Estimated Lux: {lux}\")"
      ]
    },
    {
      "cell_type": "markdown",
      "source": [
        "B) HOW TO CONVERT PICTURE TO DAWN/DUSK PICTURE"
      ],
      "metadata": {
        "id": "ojldw2E2Iz8T"
      }
    },
    {
      "cell_type": "code",
      "source": [
        "import cv2\n",
        "import numpy as np\n",
        "from PIL import Image, ImageEnhance\n",
        "image_path = 'doraemon_day.png'\n",
        "output_path = '/content'\n",
        "\n",
        "def apply_dawn_effect(image_path, output_path):\n",
        "    # Load image\n",
        "    image = cv2.imread('/content/doraemon_day.png')\n",
        "\n",
        "    # Convert to HSV for color adjustment\n",
        "    hsv = cv2.cvtColor(image, cv2.COLOR_BGR2HSV)\n",
        "\n",
        "    # Increase warmth (adjust Hue)\n",
        "    h, s, v = cv2.split(hsv)\n",
        "    h = cv2.add(h, 10)  # Increase hue to shift towards warmer tones\n",
        "    s = cv2.add(s, 30)  # Boost saturation for a richer effect\n",
        "\n",
        "    # Merge back\n",
        "    hsv_dawn = cv2.merge([h, s, v])\n",
        "    dawn_image = cv2.cvtColor(hsv_dawn, cv2.COLOR_HSV2BGR)\n",
        "\n",
        "    # Convert to PIL for further enhancement\n",
        "    dawn_pil = Image.fromarray(cv2.cvtColor(dawn_image, cv2.COLOR_BGR2RGB))\n",
        "\n",
        "    # Enhance brightness and contrast\n",
        "    enhancer = ImageEnhance.Brightness(dawn_pil)\n",
        "    dawn_pil = enhancer.enhance(0.8)  # Reduce brightness slightly\n",
        "\n",
        "    enhancer = ImageEnhance.Contrast(dawn_pil)\n",
        "    dawn_pil = enhancer.enhance(1.2)  # Increase contrast\n",
        "\n",
        "    # Save the modified image\n",
        "    dawn_pil.save('/content/dawn_image_dawn.png')\n",
        "    print(f\"Dawn effect applied and saved as {output_path}\")\n",
        "\n",
        "# Apply to your image\n",
        "apply_dawn_effect(\"your_image.png\", \"dawn_image.png\")\n"
      ],
      "metadata": {
        "id": "0bQfihrJI8ND"
      },
      "execution_count": null,
      "outputs": []
    },
    {
      "cell_type": "markdown",
      "source": [
        "C) HOW TO CONVERT PICTURE TO DIM LIGHTING"
      ],
      "metadata": {
        "id": "nUWv5zfJJ_ER"
      }
    },
    {
      "cell_type": "code",
      "source": [
        "import cv2\n",
        "import numpy as np\n",
        "from PIL import Image, ImageEnhance\n",
        "\n",
        "def apply_darkness_effect(image_path, output_path, brightness_factor=0.4, contrast_factor=1.2):\n",
        "    # Load image using OpenCV\n",
        "    image = cv2.imread('/content/doraemon_day.png')\n",
        "\n",
        "    # Convert to HSV (Hue, Saturation, Value)\n",
        "    hsv = cv2.cvtColor(image, cv2.COLOR_BGR2HSV)\n",
        "\n",
        "    # Reduce brightness (Value channel)\n",
        "    h, s, v = cv2.split(hsv)\n",
        "    v = np.clip(v * brightness_factor, 0, 255).astype(np.uint8)  # Reduce brightness\n",
        "\n",
        "    # Merge back\n",
        "    dark_hsv = cv2.merge([h, s, v])\n",
        "    dark_image = cv2.cvtColor(dark_hsv, cv2.COLOR_HSV2BGR)\n",
        "\n",
        "    # Convert to PIL for more adjustments\n",
        "    dark_pil = Image.fromarray(cv2.cvtColor(dark_image, cv2.COLOR_BGR2RGB))\n",
        "\n",
        "    # Enhance contrast slightly\n",
        "    enhancer = ImageEnhance.Contrast(dark_pil)\n",
        "    dark_pil = enhancer.enhance(contrast_factor)\n",
        "\n",
        "    # Save the output\n",
        "    dark_pil.save(output_path)\n",
        "    print(f\"Darkened image saved as {output_path}\")\n",
        "\n",
        "# Apply darkness effect\n",
        "apply_darkness_effect(\"your_image.png\", \"darkened_image.png\")\n"
      ],
      "metadata": {
        "colab": {
          "base_uri": "https://localhost:8080/"
        },
        "id": "GQDQ1cfLJg_Y",
        "outputId": "35950236-716a-430d-a4e1-0687e349ac1f"
      },
      "execution_count": 1,
      "outputs": [
        {
          "output_type": "stream",
          "name": "stdout",
          "text": [
            "Darkened image saved as darkened_image.png\n"
          ]
        }
      ]
    },
    {
      "cell_type": "code",
      "source": [],
      "metadata": {
        "id": "HoeKWWUaJIvq"
      },
      "execution_count": null,
      "outputs": []
    }
  ]
}