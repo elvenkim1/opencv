{
  "nbformat": 4,
  "nbformat_minor": 0,
  "metadata": {
    "colab": {
      "provenance": []
    },
    "kernelspec": {
      "name": "python3",
      "display_name": "Python 3"
    },
    "language_info": {
      "name": "python"
    }
  },
  "cells": [
    {
      "cell_type": "code",
      "source": [
        "#Import the necessary libraries\n",
        "import cv2\n",
        "import matplotlib.pyplot as plt\n",
        "import numpy as np\n",
        "\n",
        "# Load the image\n",
        "image = cv2.imread('dusk30.jpg')\n",
        "\n",
        "# Adjust the brightness and contrast\n",
        "# g(i,j)=α⋅f(i,j)+β\n",
        "# control Contrast by 1\n",
        "alpha = 1\n",
        "# control brightness by 100\n",
        "beta = 100\n",
        "image2 = cv2.convertScaleAbs(image, alpha=alpha, beta=beta)\n",
        "cv2.imwrite('DUSK1_ALPHA_LEVEL30.jpg', image2)\n",
        "\n",
        "\n"
      ],
      "metadata": {
        "colab": {
          "base_uri": "https://localhost:8080/"
        },
        "id": "uVJDzgF24e2d",
        "outputId": "b2cd8055-432f-4fa6-8cfc-99b1adc641a6"
      },
      "execution_count": 131,
      "outputs": [
        {
          "output_type": "execute_result",
          "data": {
            "text/plain": [
              "True"
            ]
          },
          "metadata": {},
          "execution_count": 131
        }
      ]
    },
    {
      "cell_type": "code",
      "source": [
        "import cv2\n",
        "import numpy as np\n",
        "\n",
        "image_path = 'DUSK1_ALPHA_LEVEL23.jpg'\n",
        "\n",
        "def estimate_lux(image_path, k=0.5):\n",
        "    # Load image\n",
        "    image = cv2.imread(image_path, cv2.IMREAD_GRAYSCALE)\n",
        "\n",
        "    # Check if image was loaded successfully\n",
        "    if image is not None:\n",
        "        # Compute average pixel intensity\n",
        "        avg_intensity = np.mean(image)\n",
        "\n",
        "        # Convert to lux\n",
        "        lux_value = k * avg_intensity\n",
        "\n",
        "        return lux_value\n",
        "    else:\n",
        "        print(f\"Error: Could not load image at {image_path}\")\n",
        "        return None  # or raise an exception if you prefer\n",
        "\n",
        "\n",
        "lux = estimate_lux(image_path)  # Use the original image_path\n",
        "if lux is not None:\n",
        "    print(f\"Estimated Lux: {lux}\")"
      ],
      "metadata": {
        "colab": {
          "base_uri": "https://localhost:8080/"
        },
        "id": "QtQJL7n7qLQI",
        "outputId": "8acb352e-e630-4045-e051-046172f05a3f"
      },
      "execution_count": 124,
      "outputs": [
        {
          "output_type": "stream",
          "name": "stdout",
          "text": [
            "Estimated Lux: 73.78042684091561\n"
          ]
        }
      ]
    },
    {
      "cell_type": "code",
      "source": [],
      "metadata": {
        "id": "zNSoSBOXVRah"
      },
      "execution_count": null,
      "outputs": []
    }
  ]
}