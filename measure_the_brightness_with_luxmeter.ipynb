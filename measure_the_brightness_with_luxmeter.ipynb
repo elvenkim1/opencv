{
  "nbformat": 4,
  "nbformat_minor": 0,
  "metadata": {
    "colab": {
      "provenance": []
    },
    "kernelspec": {
      "name": "python3",
      "display_name": "Python 3"
    },
    "language_info": {
      "name": "python"
    }
  },
  "cells": [
    {
      "cell_type": "code",
      "source": [
        "#Import the necessary libraries\n",
        "import cv2\n",
        "import matplotlib.pyplot as plt\n",
        "import numpy as np\n",
        "\n",
        "# Load the image\n",
        "image = cv2.imread('day12.jpg')\n",
        "\n",
        "# Adjust the brightness and contrast\n",
        "# g(i,j)=α⋅f(i,j)+β\n",
        "# control Contrast by 1\n",
        "alpha = 1\n",
        "# control brightness by 100\n",
        "beta = 0\n",
        "image2 = cv2.convertScaleAbs(image, alpha=alpha, beta=beta)\n",
        "cv2.imwrite('DARKEN_day1.jpg', image2)\n",
        "\n",
        "\n"
      ],
      "metadata": {
        "colab": {
          "base_uri": "https://localhost:8080/"
        },
        "id": "uVJDzgF24e2d",
        "outputId": "71e0cff7-c913-41c6-a097-e8d588bd58cf"
      },
      "execution_count": 169,
      "outputs": [
        {
          "output_type": "execute_result",
          "data": {
            "text/plain": [
              "True"
            ]
          },
          "metadata": {},
          "execution_count": 169
        }
      ]
    },
    {
      "cell_type": "code",
      "source": [
        "import cv2\n",
        "import numpy as np\n",
        "\n",
        "image_path = 'DUSK1_ALPHA_LEVEL1.jpg'\n",
        "\n",
        "def estimate_lux(image_path, k=0.5):\n",
        "    # Load image\n",
        "    image = cv2.imread(image_path, cv2.IMREAD_GRAYSCALE)\n",
        "\n",
        "    # Check if image was loaded successfully\n",
        "    if image is not None:\n",
        "        # Compute average pixel intensity\n",
        "        avg_intensity = np.mean(image)\n",
        "\n",
        "        # Convert to lux\n",
        "        lux_value = k * avg_intensity\n",
        "\n",
        "        return lux_value\n",
        "    else:\n",
        "        print(f\"Error: Could not load image at {image_path}\")\n",
        "        return None  # or raise an exception if you prefer\n",
        "\n",
        "\n",
        "lux = estimate_lux(image_path)  # Use the original image_path\n",
        "if lux is not None:\n",
        "    print(f\"Estimated Lux: {lux}\")"
      ],
      "metadata": {
        "colab": {
          "base_uri": "https://localhost:8080/"
        },
        "id": "QtQJL7n7qLQI",
        "outputId": "9307ca86-b553-4a29-ce66-a0c093e3f95c"
      },
      "execution_count": 165,
      "outputs": [
        {
          "output_type": "stream",
          "name": "stdout",
          "text": [
            "Estimated Lux: 80.14181918178565\n"
          ]
        }
      ]
    },
    {
      "cell_type": "code",
      "source": [
        "#### DARKEN DAY TO DUSK/DAWN\n",
        "import cv2\n",
        "import numpy as np\n",
        "from google.colab.patches import cv2_imshow\n",
        "\n",
        "# Load the image\n",
        "image = cv2.imread('day30.jpg')\n",
        "\n",
        "# Define a scaling factor (less than 1 to darken)\n",
        "alpha = 0.25  # Adjust this value (0.0 - 1.0)\n",
        "\n",
        "# Darken the image\n",
        "image2 = np.uint8(image * alpha)\n",
        "\n",
        "# Display the result\n",
        "cv2.imwrite('DARKEN_day30.jpg', image2)\n",
        "cv2.waitKey(0)\n",
        "cv2.destroyAllWindows()"
      ],
      "metadata": {
        "id": "zNSoSBOXVRah"
      },
      "execution_count": 222,
      "outputs": []
    },
    {
      "cell_type": "code",
      "source": [
        "import cv2\n",
        "import numpy as np\n",
        "\n",
        "image_path = 'DARKEN_day3.jpg'\n",
        "\n",
        "def estimate_lux(image_path, k=0.5):\n",
        "    # Load image\n",
        "    image = cv2.imread(image_path, cv2.IMREAD_GRAYSCALE)\n",
        "\n",
        "    # Check if image was loaded successfully\n",
        "    if image is not None:\n",
        "        # Compute average pixel intensity\n",
        "        avg_intensity = np.mean(image)\n",
        "\n",
        "        # Convert to lux\n",
        "        lux_value = k * avg_intensity\n",
        "\n",
        "        return lux_value\n",
        "    else:\n",
        "        print(f\"Error: Could not load image at {image_path}\")\n",
        "        return None  # or raise an exception if you prefer\n",
        "\n",
        "\n",
        "lux = estimate_lux(image_path)  # Use the original image_path\n",
        "if lux is not None:\n",
        "    print(f\"Estimated Lux: {lux}\")"
      ],
      "metadata": {
        "colab": {
          "base_uri": "https://localhost:8080/"
        },
        "id": "lZ6VRmo2lppm",
        "outputId": "8dff5b4f-9227-4423-cebf-e5b10d7b96e6"
      },
      "execution_count": 189,
      "outputs": [
        {
          "output_type": "stream",
          "name": "stdout",
          "text": [
            "Estimated Lux: 20.964525571375045\n"
          ]
        }
      ]
    }
  ]
}